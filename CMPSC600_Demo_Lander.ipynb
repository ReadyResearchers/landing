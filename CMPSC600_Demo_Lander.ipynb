{
  "cells": [
    {
      "cell_type": "markdown",
      "metadata": {
        "id": "view-in-github",
        "colab_type": "text"
      },
      "source": [
        "<a href=\"https://colab.research.google.com/github/Mai1902/landing/blob/main/CMPSC600_Demo_Lander.ipynb\" target=\"_parent\"><img src=\"https://colab.research.google.com/assets/colab-badge.svg\" alt=\"Open In Colab\"/></a>"
      ]
    },
    {
      "cell_type": "code",
      "execution_count": null,
      "metadata": {
        "id": "QPvnSRsobVXL",
        "colab": {
          "base_uri": "https://localhost:8080/"
        },
        "outputId": "8b1c5ef3-7d04-4978-b544-1d7d902ad3d8"
      },
      "outputs": [
        {
          "output_type": "stream",
          "name": "stdout",
          "text": [
            "Looking in indexes: https://pypi.org/simple, https://us-python.pkg.dev/colab-wheels/public/simple/\n",
            "Requirement already satisfied: numpy in /usr/local/lib/python3.8/dist-packages (1.21.6)\n",
            "Looking in indexes: https://pypi.org/simple, https://us-python.pkg.dev/colab-wheels/public/simple/\n",
            "Requirement already satisfied: pandas in /usr/local/lib/python3.8/dist-packages (1.3.5)\n",
            "Requirement already satisfied: python-dateutil>=2.7.3 in /usr/local/lib/python3.8/dist-packages (from pandas) (2.8.2)\n",
            "Requirement already satisfied: pytz>=2017.3 in /usr/local/lib/python3.8/dist-packages (from pandas) (2022.6)\n",
            "Requirement already satisfied: numpy>=1.17.3 in /usr/local/lib/python3.8/dist-packages (from pandas) (1.21.6)\n",
            "Requirement already satisfied: six>=1.5 in /usr/local/lib/python3.8/dist-packages (from python-dateutil>=2.7.3->pandas) (1.15.0)\n",
            "Looking in indexes: https://pypi.org/simple, https://us-python.pkg.dev/colab-wheels/public/simple/\n",
            "Requirement already satisfied: matplotlib in /usr/local/lib/python3.8/dist-packages (3.2.2)\n",
            "Requirement already satisfied: cycler>=0.10 in /usr/local/lib/python3.8/dist-packages (from matplotlib) (0.11.0)\n",
            "Requirement already satisfied: numpy>=1.11 in /usr/local/lib/python3.8/dist-packages (from matplotlib) (1.21.6)\n",
            "Requirement already satisfied: python-dateutil>=2.1 in /usr/local/lib/python3.8/dist-packages (from matplotlib) (2.8.2)\n",
            "Requirement already satisfied: pyparsing!=2.0.4,!=2.1.2,!=2.1.6,>=2.0.1 in /usr/local/lib/python3.8/dist-packages (from matplotlib) (3.0.9)\n",
            "Requirement already satisfied: kiwisolver>=1.0.1 in /usr/local/lib/python3.8/dist-packages (from matplotlib) (1.4.4)\n",
            "Requirement already satisfied: six>=1.5 in /usr/local/lib/python3.8/dist-packages (from python-dateutil>=2.1->matplotlib) (1.15.0)\n",
            "Looking in indexes: https://pypi.org/simple, https://us-python.pkg.dev/colab-wheels/public/simple/\n",
            "Requirement already satisfied: seaborn in /usr/local/lib/python3.8/dist-packages (0.11.2)\n",
            "Requirement already satisfied: matplotlib>=2.2 in /usr/local/lib/python3.8/dist-packages (from seaborn) (3.2.2)\n",
            "Requirement already satisfied: pandas>=0.23 in /usr/local/lib/python3.8/dist-packages (from seaborn) (1.3.5)\n",
            "Requirement already satisfied: scipy>=1.0 in /usr/local/lib/python3.8/dist-packages (from seaborn) (1.7.3)\n",
            "Requirement already satisfied: numpy>=1.15 in /usr/local/lib/python3.8/dist-packages (from seaborn) (1.21.6)\n",
            "Requirement already satisfied: pyparsing!=2.0.4,!=2.1.2,!=2.1.6,>=2.0.1 in /usr/local/lib/python3.8/dist-packages (from matplotlib>=2.2->seaborn) (3.0.9)\n",
            "Requirement already satisfied: cycler>=0.10 in /usr/local/lib/python3.8/dist-packages (from matplotlib>=2.2->seaborn) (0.11.0)\n",
            "Requirement already satisfied: python-dateutil>=2.1 in /usr/local/lib/python3.8/dist-packages (from matplotlib>=2.2->seaborn) (2.8.2)\n",
            "Requirement already satisfied: kiwisolver>=1.0.1 in /usr/local/lib/python3.8/dist-packages (from matplotlib>=2.2->seaborn) (1.4.4)\n",
            "Requirement already satisfied: pytz>=2017.3 in /usr/local/lib/python3.8/dist-packages (from pandas>=0.23->seaborn) (2022.6)\n",
            "Requirement already satisfied: six>=1.5 in /usr/local/lib/python3.8/dist-packages (from python-dateutil>=2.1->matplotlib>=2.2->seaborn) (1.15.0)\n",
            "Looking in indexes: https://pypi.org/simple, https://us-python.pkg.dev/colab-wheels/public/simple/\n",
            "Requirement already satisfied: nltk in /usr/local/lib/python3.8/dist-packages (3.7)\n",
            "Requirement already satisfied: regex>=2021.8.3 in /usr/local/lib/python3.8/dist-packages (from nltk) (2022.6.2)\n",
            "Requirement already satisfied: click in /usr/local/lib/python3.8/dist-packages (from nltk) (7.1.2)\n",
            "Requirement already satisfied: joblib in /usr/local/lib/python3.8/dist-packages (from nltk) (1.2.0)\n",
            "Requirement already satisfied: tqdm in /usr/local/lib/python3.8/dist-packages (from nltk) (4.64.1)\n",
            "Looking in indexes: https://pypi.org/simple, https://us-python.pkg.dev/colab-wheels/public/simple/\n",
            "Collecting sklearn\n",
            "  Downloading sklearn-0.0.post1.tar.gz (3.6 kB)\n",
            "\u001b[33mWARNING: Discarding https://files.pythonhosted.org/packages/db/1e/af4e9cded5093a92e60d4ae7149a02c7427661b2db66c8ea4d34b17864a2/sklearn-0.0.post1.tar.gz#sha256=76b9ed1623775168657b86b5fe966d45752e5c87f528de6240c38923b94147c5 (from https://pypi.org/simple/sklearn/). Command errored out with exit status 1: python setup.py egg_info Check the logs for full command output.\u001b[0m\n",
            "  Downloading sklearn-0.0.tar.gz (1.1 kB)\n",
            "Requirement already satisfied: scikit-learn in /usr/local/lib/python3.8/dist-packages (from sklearn) (1.0.2)\n",
            "Requirement already satisfied: threadpoolctl>=2.0.0 in /usr/local/lib/python3.8/dist-packages (from scikit-learn->sklearn) (3.1.0)\n",
            "Requirement already satisfied: joblib>=0.11 in /usr/local/lib/python3.8/dist-packages (from scikit-learn->sklearn) (1.2.0)\n",
            "Requirement already satisfied: scipy>=1.1.0 in /usr/local/lib/python3.8/dist-packages (from scikit-learn->sklearn) (1.7.3)\n",
            "Requirement already satisfied: numpy>=1.14.6 in /usr/local/lib/python3.8/dist-packages (from scikit-learn->sklearn) (1.21.6)\n",
            "Building wheels for collected packages: sklearn\n",
            "  Building wheel for sklearn (setup.py) ... \u001b[?25l\u001b[?25hdone\n",
            "  Created wheel for sklearn: filename=sklearn-0.0-py2.py3-none-any.whl size=1309 sha256=a235f8742ac8237a1e8cf7fa2ad45a3c1a6f63cad87eb1173211d8799e4fb0c9\n",
            "  Stored in directory: /root/.cache/pip/wheels/22/0b/40/fd3f795caaa1fb4c6cb738bc1f56100be1e57da95849bfc897\n",
            "Successfully built sklearn\n",
            "Installing collected packages: sklearn\n",
            "Successfully installed sklearn-0.0\n",
            "Looking in indexes: https://pypi.org/simple, https://us-python.pkg.dev/colab-wheels/public/simple/\n",
            "Collecting PyPDF2\n",
            "  Downloading pypdf2-3.0.1-py3-none-any.whl (232 kB)\n",
            "\u001b[K     |████████████████████████████████| 232 kB 14.9 MB/s \n",
            "\u001b[?25hRequirement already satisfied: typing_extensions>=3.10.0.0 in /usr/local/lib/python3.8/dist-packages (from PyPDF2) (4.4.0)\n",
            "Installing collected packages: PyPDF2\n",
            "Successfully installed PyPDF2-3.0.1\n"
          ]
        }
      ],
      "source": [
        "!pip install numpy\n",
        "!pip install pandas\n",
        "!pip install matplotlib\n",
        "!pip install seaborn\n",
        "!pip install nltk\n",
        "!pip install sklearn\n",
        "!pip install PyPDF2"
      ]
    },
    {
      "cell_type": "code",
      "execution_count": null,
      "metadata": {
        "id": "KrujTxFZaRnD"
      },
      "outputs": [],
      "source": [
        "import numpy as np\n",
        "import pandas as pd\n",
        "import matplotlib.pyplot as plt\n",
        "import seaborn as sns\n",
        "import os\n",
        "import re\n",
        "import nltk\n",
        "from sklearn import feature_extraction\n",
        "from nltk.stem import PorterStemmer\n",
        "import PyPDF2"
      ]
    },
    {
      "cell_type": "code",
      "execution_count": null,
      "metadata": {
        "id": "qvY8G9_DipPi"
      },
      "outputs": [],
      "source": [
        "# Load job description file\n",
        "df = pd.read_csv('dice_com_techjob_post.csv')\n",
        "im_df = pd.DataFrame(df, columns = ['company', 'employment', 'jobdescription', 'jobtitle', 'skills'])\n",
        "data_dict = im_df.to_dict()\n",
        "jd_content = [x for x in data_dict['jobdescription'].values()]\n",
        "skills = [x for x in data_dict['skills'].values()]\n",
        "skills_cleaned = []\n",
        "\n",
        "for skill in skills:\n",
        "    skill = str(skill)\n",
        "    skill = skill.split(',')\n",
        "    for entity in skill:\n",
        "      if 'see' not in entity and 'See' not in entity and 'SEE' not in entity:\n",
        "        skills_cleaned.append(entity)\n",
        "\n",
        "print(skills_cleaned[:20])\n",
        "jd_content_sample = jd_content[:10000]\n",
        "\n",
        "im_df.head(20)\n"
      ]
    },
    {
      "cell_type": "code",
      "execution_count": null,
      "metadata": {
        "id": "E50i1sFseU6e"
      },
      "outputs": [],
      "source": [
        "from nltk.corpus import stopwords"
      ]
    },
    {
      "cell_type": "code",
      "execution_count": null,
      "metadata": {
        "id": "Epa-sCVWpaoi"
      },
      "outputs": [],
      "source": [
        "nltk.download('punkt')"
      ]
    },
    {
      "cell_type": "code",
      "execution_count": null,
      "metadata": {
        "id": "HErpR1friNb-"
      },
      "outputs": [],
      "source": [
        "from sklearn.feature_extraction.text import TfidfVectorizer"
      ]
    },
    {
      "cell_type": "code",
      "execution_count": null,
      "metadata": {
        "id": "TUf4xeLX00mR"
      },
      "outputs": [],
      "source": [
        "# prepare a data frame of only skills and job title to train\n",
        "col = ['jobtitle', 'skills']\n",
        "data_eval = im_df[col]\n",
        "\n",
        "# If skills contain see, check jobdescription:\n",
        "\n",
        "# Drop rows with missing data\n",
        "data_eval.dropna(subset=['skills'], inplace=True)\n",
        "\n",
        "\n",
        "data_forfit = data_eval['skills']\n",
        "data_eval.head()\n"
      ]
    },
    {
      "cell_type": "code",
      "execution_count": null,
      "metadata": {
        "id": "NzAViE_Nn0yQ"
      },
      "outputs": [],
      "source": [
        "# define vectorizer parameters\n",
        "tfidf_vectorizer = TfidfVectorizer(sublinear_tf = True, min_df = 0.001, use_idf=True, stop_words= 'english')\n",
        "\n",
        "tfidf_matrix = tfidf_vectorizer.fit_transform(data_forfit)\n",
        "print(tfidf_matrix.shape)"
      ]
    },
    {
      "cell_type": "code",
      "execution_count": null,
      "metadata": {
        "id": "DNpSvYkbKRL0"
      },
      "outputs": [],
      "source": [
        "from sklearn.cluster import KMeans"
      ]
    },
    {
      "cell_type": "code",
      "execution_count": null,
      "metadata": {
        "id": "Ofuy6J0hJycu"
      },
      "outputs": [],
      "source": [
        "# generate k-cluster\n",
        "\n",
        "num_clusters = 70\n",
        "\n",
        "km = KMeans(n_clusters=num_clusters)\n",
        "\n",
        "km.fit(tfidf_matrix)\n",
        "\n",
        "clusters = km.predict(tfidf_matrix)"
      ]
    },
    {
      "cell_type": "code",
      "execution_count": null,
      "metadata": {
        "id": "7byN39vFKaHF"
      },
      "outputs": [],
      "source": [
        "#add cluster name into the df\n",
        "data_eval[\"ClusterName\"] = clusters\n",
        "data_eval.head(20)\n",
        "\n"
      ]
    },
    {
      "cell_type": "code",
      "execution_count": null,
      "metadata": {
        "id": "2wsEi9jVjWNp",
        "colab": {
          "base_uri": "https://localhost:8080/"
        },
        "outputId": "276c37a0-c93a-438b-8c80-db25af96d4bf"
      },
      "outputs": [
        {
          "output_type": "stream",
          "name": "stdout",
          "text": [
            "[14]\n"
          ]
        }
      ],
      "source": [
        "fileOb = open('Resume.pdf','rb')\n",
        "pdfReader = PyPDF2.PdfFileReader(fileOb)\n",
        "page = pdfReader.getPage(0)\n",
        "content = page.extractText()\n",
        "\n",
        "cluster = km.predict(tfidf_vectorizer.transform([content])) \n",
        "\n",
        "print(cluster)"
      ]
    },
    {
      "cell_type": "code",
      "execution_count": null,
      "metadata": {
        "id": "1-rHdGhUmYvj"
      },
      "outputs": [],
      "source": [
        "ind = []\n",
        "for i in data_eval.index:\n",
        "  if int(data_eval[\"ClusterName\"][i]) == int(cluster):\n",
        "    ind.append(i)\n",
        "match_df = im_df.loc[ind]\n",
        "match_df.shape\n"
      ]
    },
    {
      "cell_type": "code",
      "execution_count": null,
      "metadata": {
        "id": "z-KiQEgtTKQF"
      },
      "outputs": [],
      "source": [
        "from collections import Counter"
      ]
    },
    {
      "cell_type": "code",
      "execution_count": null,
      "metadata": {
        "id": "ZSNzWhS7LzcO",
        "colab": {
          "base_uri": "https://localhost:8080/",
          "height": 256
        },
        "outputId": "5c48572b-e222-4120-fabb-1895ad8e00c9"
      },
      "outputs": [
        {
          "output_type": "stream",
          "name": "stderr",
          "text": [
            "/usr/local/lib/python3.7/dist-packages/sklearn/utils/deprecation.py:87: FutureWarning: Function get_feature_names is deprecated; get_feature_names is deprecated in 1.0 and will be removed in 1.2. Please use get_feature_names_out instead.\n",
            "  warnings.warn(msg, category=FutureWarning)\n"
          ]
        },
        {
          "output_type": "display_data",
          "data": {
            "text/plain": [
              "<Figure size 576x144 with 1 Axes>"
            ],
            "image/png": "[encoded data removed]"
          },
          "metadata": {
            "needs_background": "light"
          }
        }
      ],
      "source": [
        "def cluster_name(prediction, data_eval):\n",
        "  labels = []\n",
        "  for cluster in prediction:\n",
        "    title_list = []\n",
        "    for i in data_eval.index:\n",
        "      if int(data_eval['ClusterName'][i]) == cluster:\n",
        "        for word in data_eval['jobtitle'][i].split(' '):\n",
        "          title_list.append(word)\n",
        "    occurence_count = Counter(title_list)\n",
        "    label = occurence_count.most_common(1)[0][0]\n",
        "    labels.append(label)\n",
        "  return labels\n",
        "\n",
        "def get_top_features_cluster(tf_idf_array, prediction, n_feats):\n",
        "    labels = np.unique(prediction)\n",
        "    dfs = []\n",
        "    for label in labels:\n",
        "        id_temp = np.where(prediction==label) # indices for each cluster\n",
        "        x_means = np.mean(tf_idf_array[id_temp], axis = 0) # returns average score across cluster\n",
        "        sorted_means = np.argsort(x_means)[::-1][:n_feats] # indices with top 20 scores\n",
        "        features = tfidf_vectorizer.get_feature_names()\n",
        "        best_features = [(features[i], x_means[i]) for i in sorted_means]\n",
        "        df = pd.DataFrame(best_features, columns = ['features', 'score'])\n",
        "        dfs.append(df)\n",
        "    return dfs\n",
        "\n",
        "def get_job(data_eval):\n",
        "\n",
        "  dict_job = {}\n",
        "\n",
        "  for ind in data_eval.index:\n",
        "    i = data_eval['ClusterName'][ind]\n",
        "    if i not in dict_job.keys():\n",
        "      dict_job[i] = []\n",
        "      dict_job[i].append(data_eval['jobtitle'][ind])\n",
        "    else:\n",
        "      dict_job[i].append(data_eval['jobtitle'][ind])\n",
        "  \n",
        "  return dict_job\n",
        "\n",
        "def plotWords(dfs, n_feats, data_eval):\n",
        "    job = get_job(data_eval)\n",
        "    for i in range(14, 15):\n",
        "        plt.figure(figsize=(8, 2))\n",
        "        plt.title((\"Most Common Words in Cluster {}\".format(i)), fontsize=10, fontweight='bold')\n",
        "        sns.barplot(x = 'score' , y = 'features', orient = 'h' , data = dfs[i][:n_feats])\n",
        "        plt.figtext(0.99, - 0.2, f'Associated positions: {job[i][:3]}', horizontalalignment='right')\n",
        "        \n",
        "\n",
        "#labels = cluster_name(clusters, data_eval)\n",
        "#print(labels, \" \")\n",
        "dfs = get_top_features_cluster(tfidf_matrix.toarray(), clusters, 6)\n",
        "plotWords(dfs, 6, data_eval)\n",
        "\n"
      ]
    },
    {
      "cell_type": "code",
      "execution_count": null,
      "metadata": {
        "id": "Anomy5W3WGxJ",
        "colab": {
          "base_uri": "https://localhost:8080/"
        },
        "outputId": "3db2f833-d50c-4ba6-efc3-9806dde67600"
      },
      "outputs": [
        {
          "output_type": "execute_result",
          "data": {
            "text/plain": [
              "(100, 5)"
            ]
          },
          "metadata": {},
          "execution_count": 17
        }
      ],
      "source": [
        "match_df = match_df[:100]\n",
        "match_df.shape"
      ]
    },
    {
      "cell_type": "code",
      "execution_count": null,
      "metadata": {
        "id": "u1-Qb5O5CiOE"
      },
      "outputs": [],
      "source": [
        "import en_core_web_sm"
      ]
    },
    {
      "cell_type": "code",
      "execution_count": null,
      "metadata": {
        "id": "LNFAvcsdCspY"
      },
      "outputs": [],
      "source": [
        "from spacy.matcher import PhraseMatcher, Matcher"
      ]
    },
    {
      "cell_type": "code",
      "execution_count": null,
      "metadata": {
        "id": "FC7KDUJrChLU"
      },
      "outputs": [],
      "source": [
        "master = en_core_web_sm.load()"
      ]
    },
    {
      "cell_type": "code",
      "execution_count": null,
      "metadata": {
        "id": "Gopu0Vx4CP-2"
      },
      "outputs": [],
      "source": [
        "# Match job to a list of position\n",
        "def keyword_matching(text_resume, text_jd):\n",
        "    # Generate matcher pattern by extracting keywords from job description\n",
        "    rake = Rake()\n",
        "    matcher = PhraseMatcher(master.vocab)\n",
        "    rake.extract_keywords_from_text(text_jd)\n",
        "    jd_keyword = rake.get_ranked_phrases()\n",
        "    jd_keyword_count = Counter(jd_keyword)\n",
        "    patterns = [master.make_doc(k) for k in jd_keyword]\n",
        "    matcher.add(\"Spec\", patterns) \n",
        "\n",
        "    # Matching the keyword in job description with resume\n",
        "    text_resume = master(text_resume)\n",
        "    matches = matcher(text_resume)\n",
        "    match_keywords = [text_resume[start:end] for _, start, end in matches]\n",
        "\n",
        "    # Count the amount of word matched and matching frequency\n",
        "    matcher_report = Counter(match_keywords)\n",
        "\n",
        "    # Calculate the keyword matching percentage between job description and resume\n",
        "    matched_amount = len(matcher_report.keys())\n",
        "    jd_keyword_amount = len(jd_keyword_count.keys())\n",
        "    matcher_percentage = (matched_amount/jd_keyword_amount)*100\n",
        "\n",
        "    return match_keywords, matcher_percentage\n",
        "\n"
      ]
    },
    {
      "cell_type": "code",
      "execution_count": null,
      "metadata": {
        "id": "idP36-ijHJHG"
      },
      "outputs": [],
      "source": [
        "!pip install rake_nltk"
      ]
    },
    {
      "cell_type": "code",
      "execution_count": null,
      "metadata": {
        "id": "I22PBfmu-jg0"
      },
      "outputs": [],
      "source": [
        "from rake_nltk import Rake"
      ]
    },
    {
      "cell_type": "code",
      "execution_count": null,
      "metadata": {
        "id": "1wAVycxCMOSA"
      },
      "outputs": [],
      "source": [
        "from nltk.tokenize import sent_tokenize"
      ]
    },
    {
      "cell_type": "code",
      "execution_count": null,
      "metadata": {
        "id": "3oVA2mnBMStT"
      },
      "outputs": [],
      "source": [
        "from nltk.tokenize import word_tokenize"
      ]
    },
    {
      "cell_type": "code",
      "execution_count": null,
      "metadata": {
        "id": "th_Qr9YKLt1i"
      },
      "outputs": [],
      "source": [
        "def tokenizer(text):\n",
        "  tokens = []\n",
        "  for sent in sent_tokenize(text):\n",
        "    for token in word_tokenize(sent):\n",
        "      tokens.append(token)\n",
        "  return tokens"
      ]
    },
    {
      "cell_type": "code",
      "source": [
        "import nltk\n",
        "nltk.download('stopwords')"
      ],
      "metadata": {
        "id": "aZo7wMoIdi_k"
      },
      "execution_count": null,
      "outputs": []
    },
    {
      "cell_type": "code",
      "execution_count": null,
      "metadata": {
        "id": "6nTmn-B0Duxp"
      },
      "outputs": [],
      "source": [
        "# Calculate match and return top 5\n",
        "\n",
        "scores = []\n",
        "matches_kws = []\n",
        "\n",
        "for ind in match_df.index:\n",
        "  text_jd = match_df['jobdescription'][ind]\n",
        "  score = keyword_matching(content, text_jd)[1]\n",
        "  scores.append(score)\n",
        "  matches_kw = keyword_matching(content, text_jd)[0]\n",
        "  matches_kws.append(matches_kw)\n",
        "\n",
        "match_df['MatchingPercentage'] = pd.Series(scores)\n",
        "match_df['KeywordMatched'] = pd.Series(matches_kws)\n",
        "\n",
        "\n",
        "\n"
      ]
    },
    {
      "cell_type": "code",
      "execution_count": null,
      "metadata": {
        "id": "z-oOBMTlWhFl"
      },
      "outputs": [],
      "source": [
        "match_df.head(5)"
      ]
    },
    {
      "cell_type": "code",
      "execution_count": null,
      "metadata": {
        "id": "ZjxnsqjPXKUS"
      },
      "outputs": [],
      "source": [
        "# Return top 5:\n",
        "temp_df = match_df.copy()\n",
        "top_df = match_df.copy()\n",
        "amount = 5\n",
        "max_ind = []\n",
        "while(amount > 0):\n",
        "  max = 0\n",
        "  max_id = 0\n",
        "  for ind in temp_df.index:\n",
        "    if temp_df['MatchingPercentage'][ind] > max:\n",
        "      max_id = ind\n",
        "      max = temp_df['MatchingPercentage'][ind]\n",
        "\n",
        "  max_ind.append(max_id)\n",
        "  temp_df['MatchingPercentage'][max_id] = 0\n",
        "  amount -= 1\n",
        "\n",
        "top_df.loc[max_ind]"
      ]
    },
    {
      "cell_type": "code",
      "execution_count": null,
      "metadata": {
        "id": "wt-ReiGBcAf5"
      },
      "outputs": [],
      "source": [
        "# Return missing keyphrase from a job\n",
        "text = top_df['jobdescription'][17]\n",
        "rake = Rake()\n",
        "rake.extract_keywords_from_text(text)\n",
        "key_jd = rake.get_ranked_phrases()[:10]\n",
        "kw_m = [str(w) for w in top_df['KeywordMatched'][17]]\n",
        "missing = []\n",
        "for kw in key_jd:\n",
        "  if kw not in kw_m:\n",
        "    missing.append(kw)\n",
        "kw_m = ','.join(kw_m)\n",
        "print(f'Matched key phrase: {kw_m}')\n",
        "print()\n",
        "i = 1\n",
        "for ms in missing:\n",
        "  print(f'Top {i} missing phrase: {ms}')\n",
        "  print()\n",
        "  i+= 1\n"
      ]
    },
    {
      "cell_type": "code",
      "execution_count": null,
      "metadata": {
        "id": "_a3WutzaP3-K"
      },
      "outputs": [],
      "source": [
        "def lemmatization(text):\n",
        "    text = master(text)\n",
        "    token_list = []\n",
        "    for token in text:\n",
        "        token_list.append(token.lemma_)\n",
        "\n",
        "    lemmatized_text = ' '.join(token_list)\n",
        "    return lemmatized_text"
      ]
    },
    {
      "cell_type": "code",
      "execution_count": null,
      "metadata": {
        "id": "DCR0NTNyP8Vs"
      },
      "outputs": [],
      "source": [
        "from sklearn.feature_extraction.text import CountVectorizer"
      ]
    },
    {
      "cell_type": "code",
      "execution_count": null,
      "metadata": {
        "id": "7ybSdeOYQD1A"
      },
      "outputs": [],
      "source": [
        "from sklearn.metrics.pairwise import cosine_similarity"
      ]
    },
    {
      "cell_type": "code",
      "execution_count": null,
      "metadata": {
        "id": "LRO3A-XTPgUi"
      },
      "outputs": [],
      "source": [
        "def similarity_caculator(text_resume, text_jd):\n",
        "    text_resume = lemmatization(text_resume)\n",
        "    text_jd = lemmatization(text_jd)\n",
        "    text_list = [text_resume, text_jd]\n",
        "    cv = CountVectorizer()\n",
        "    count_vector = cv.fit_transform(text_list)\n",
        "    matchPercentage = cosine_similarity(count_vector)[0][1]*100\n",
        "    matchPercentage = round(matchPercentage,2)\n",
        "    return matchPercentage\n"
      ]
    },
    {
      "cell_type": "code",
      "execution_count": null,
      "metadata": {
        "id": "HpEbOIQAW823"
      },
      "outputs": [],
      "source": [
        "#Calculate Similarity using cosine similarity\n",
        "similarityscore = []\n",
        "for ind in match_df.index:\n",
        "  score = similarity_caculator(content, match_df['jobdescription'][ind])\n",
        "  similarityscore.append(score)\n",
        "match_df['SimilarityScore'] = pd.Series(similarityscore)\n",
        "match_df.head()"
      ]
    },
    {
      "cell_type": "code",
      "execution_count": null,
      "metadata": {
        "id": "S-hF6-rsl6mj"
      },
      "outputs": [],
      "source": [
        "temp_df1 = match_df.copy()\n",
        "amount = 5\n",
        "max_ind = []\n",
        "while(amount > 0):\n",
        "  max = 0\n",
        "  max_id = 0\n",
        "  for ind in temp_df1.index:\n",
        "    if temp_df1['SimilarityScore'][ind] > max:\n",
        "      max_id = ind\n",
        "      max = temp_df1['SimilarityScore'][ind]\n",
        "\n",
        "  max_ind.append(max_id)\n",
        "  temp_df1['SimilarityScore'][max_id] = 0\n",
        "  amount -= 1\n",
        "\n",
        "top_df1 = match_df.loc[max_ind]\n",
        "top_df1.head()"
      ]
    },
    {
      "cell_type": "code",
      "execution_count": null,
      "metadata": {
        "id": "m5-zFjLpm7Q6"
      },
      "outputs": [],
      "source": [
        "# Print out list of job\n",
        "i = 0\n",
        "for ind in top_df1.index:\n",
        "  company = top_df1['company'][ind]\n",
        "  title = top_df1['jobtitle'][ind]\n",
        "  matching_percentage = top_df1['MatchingPercentage'][ind]\n",
        "  similarity_score = top_df1['SimilarityScore'][ind]\n",
        "  link = df['advertiserurl'][ind]\n",
        "  print('-----------------------------------------')\n",
        "  print(f'Rank {i} match based on similarity score:\\n')\n",
        "  print(f'Company:\\t{company}\\n')\n",
        "  print(f'Title:\\t{title}\\n')\n",
        "  print(f'Matching Percentage by phrase matching:\\t{matching_percentage}\\n')\n",
        "  print(f'Similarity Score\\t{similarity_score}\\n')\n",
        "  print(f'Link: {link}')\n",
        "  i += 1\n",
        "  print('------------------------------------------')\n"
      ]
    },
    {
      "cell_type": "code",
      "execution_count": null,
      "metadata": {
        "id": "szaXjT350Mov"
      },
      "outputs": [],
      "source": [
        "!pip install gensim"
      ]
    },
    {
      "cell_type": "code",
      "execution_count": null,
      "metadata": {
        "id": "DC4AP9wqsl1U"
      },
      "outputs": [],
      "source": [
        "# Switch to LDA approach\n",
        "from gensim import corpora, models, similarities\n"
      ]
    },
    {
      "cell_type": "code",
      "execution_count": null,
      "metadata": {
        "id": "PyqKHWTg-oWB"
      },
      "outputs": [],
      "source": [
        "!pip install rake_nltk"
      ]
    },
    {
      "cell_type": "code",
      "execution_count": null,
      "metadata": {
        "id": "5JwX5fXg-ui4"
      },
      "outputs": [],
      "source": [
        "# Get keyword only from jd_content using Rake\n",
        "rake = Rake()\n",
        "def get_kw_rake(jd_content):\n",
        "  for jd in jd_content:\n",
        "    rake.extract_keywords_from_text(jd)\n",
        "  keywords = rake.get_ranked_phrases()\n",
        "  return keywords\n"
      ]
    }
  ],
  "metadata": {
    "colab": {
      "provenance": [],
      "authorship_tag": "ABX9TyMecHYq3iKwvLGwZ6HVsPkU",
      "include_colab_link": true
    },
    "kernelspec": {
      "display_name": "Python 3",
      "name": "python3"
    },
    "language_info": {
      "name": "python"
    }
  },
  "nbformat": 4,
  "nbformat_minor": 0
}